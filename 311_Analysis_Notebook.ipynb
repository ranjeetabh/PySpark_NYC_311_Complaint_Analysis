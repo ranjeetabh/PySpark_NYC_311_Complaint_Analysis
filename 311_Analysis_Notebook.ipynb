{
 "cells": [
  {
   "cell_type": "markdown",
   "metadata": {},
   "source": [
    "## This PySpark application programmatically aims to do the following: \n",
    "\n",
    "#### 1) Analyze NYC 311 Service Requests from 2010 to Present. \n",
    "\n",
    "#### 2) Apply machine learning and build a predictive model to try and predict the amount of time that it will take for an issue to go from “Open” to “Closed” among “Closed” tickets.  \n",
    "\n",
    "#### 3) Determine which features are useful for prediction."
   ]
  },
  {
   "cell_type": "code",
   "execution_count": 1,
   "metadata": {},
   "outputs": [
    {
     "data": {
      "application/vnd.jupyter.widget-view+json": {
       "model_id": "98b3d219d90846ee98bdb3064c824baf",
       "version_major": 2,
       "version_minor": 0
      },
      "text/plain": [
       "VBox()"
      ]
     },
     "metadata": {},
     "output_type": "display_data"
    },
    {
     "name": "stdout",
     "output_type": "stream",
     "text": [
      "Starting Spark application\n"
     ]
    },
    {
     "data": {
      "text/html": [
       "<table>\n",
       "<tr><th>ID</th><th>YARN Application ID</th><th>Kind</th><th>State</th><th>Spark UI</th><th>Driver log</th><th>Current session?</th></tr><tr><td>2</td><td>application_1574426985144_0003</td><td>pyspark</td><td>idle</td><td><a target=\"_blank\" href=\"http://ip-172-31-73-124.ec2.internal:20888/proxy/application_1574426985144_0003/\">Link</a></td><td><a target=\"_blank\" href=\"http://ip-172-31-71-133.ec2.internal:8042/node/containerlogs/container_1574426985144_0003_01_000001/livy\">Link</a></td><td>✔</td></tr></table>"
      ],
      "text/plain": [
       "<IPython.core.display.HTML object>"
      ]
     },
     "metadata": {},
     "output_type": "display_data"
    },
    {
     "data": {
      "application/vnd.jupyter.widget-view+json": {
       "model_id": "",
       "version_major": 2,
       "version_minor": 0
      },
      "text/plain": [
       "FloatProgress(value=0.0, bar_style='info', description='Progress:', layout=Layout(height='25px', width='50%'),…"
      ]
     },
     "metadata": {},
     "output_type": "display_data"
    },
    {
     "name": "stdout",
     "output_type": "stream",
     "text": [
      "SparkSession available as 'spark'.\n"
     ]
    },
    {
     "data": {
      "application/vnd.jupyter.widget-view+json": {
       "model_id": "",
       "version_major": 2,
       "version_minor": 0
      },
      "text/plain": [
       "FloatProgress(value=0.0, bar_style='info', description='Progress:', layout=Layout(height='25px', width='50%'),…"
      ]
     },
     "metadata": {},
     "output_type": "display_data"
    }
   ],
   "source": [
    "## Importing necessary libraries\n",
    "\n",
    "from pyspark import SparkContext\n",
    "from pyspark.sql import SparkSession\n",
    "from pyspark.sql import SQLContext\n",
    "from pyspark.sql import functions as F\n",
    "import pandas as pd"
   ]
  },
  {
   "cell_type": "code",
   "execution_count": 2,
   "metadata": {},
   "outputs": [
    {
     "data": {
      "application/vnd.jupyter.widget-view+json": {
       "model_id": "7894a2807fe240e7acb0177c6fbd7e62",
       "version_major": 2,
       "version_minor": 0
      },
      "text/plain": [
       "VBox()"
      ]
     },
     "metadata": {},
     "output_type": "display_data"
    },
    {
     "data": {
      "application/vnd.jupyter.widget-view+json": {
       "model_id": "",
       "version_major": 2,
       "version_minor": 0
      },
      "text/plain": [
       "FloatProgress(value=0.0, bar_style='info', description='Progress:', layout=Layout(height='25px', width='50%'),…"
      ]
     },
     "metadata": {},
     "output_type": "display_data"
    }
   ],
   "source": [
    "## Creating Spark session\n",
    "\n",
    "mySpark = SparkSession.builder.getOrCreate()"
   ]
  },
  {
   "cell_type": "code",
   "execution_count": 3,
   "metadata": {},
   "outputs": [
    {
     "data": {
      "application/vnd.jupyter.widget-view+json": {
       "model_id": "11d2627153de43ea9a1e75359f020a9e",
       "version_major": 2,
       "version_minor": 0
      },
      "text/plain": [
       "VBox()"
      ]
     },
     "metadata": {},
     "output_type": "display_data"
    },
    {
     "data": {
      "application/vnd.jupyter.widget-view+json": {
       "model_id": "",
       "version_major": 2,
       "version_minor": 0
      },
      "text/plain": [
       "FloatProgress(value=0.0, bar_style='info', description='Progress:', layout=Layout(height='25px', width='50%'),…"
      ]
     },
     "metadata": {},
     "output_type": "display_data"
    }
   ],
   "source": [
    "## Input file\n",
    "\n",
    "inputFile = \"s3://pgarias-bucket-cloud/311_Service_Requests_from_2015_to_Present.csv\"\n",
    "\n",
    "#inputFile = \"s3://pgarias-bucket-cloud/311_Service_Requests_from_2015_to_Present_head_1000.csv\""
   ]
  },
  {
   "cell_type": "code",
   "execution_count": 4,
   "metadata": {},
   "outputs": [
    {
     "data": {
      "application/vnd.jupyter.widget-view+json": {
       "model_id": "d07e3d3de372451babba31b9d73b2835",
       "version_major": 2,
       "version_minor": 0
      },
      "text/plain": [
       "VBox()"
      ]
     },
     "metadata": {},
     "output_type": "display_data"
    },
    {
     "data": {
      "application/vnd.jupyter.widget-view+json": {
       "model_id": "",
       "version_major": 2,
       "version_minor": 0
      },
      "text/plain": [
       "FloatProgress(value=0.0, bar_style='info', description='Progress:', layout=Layout(height='25px', width='50%'),…"
      ]
     },
     "metadata": {},
     "output_type": "display_data"
    }
   ],
   "source": [
    "## Reading input CSV file and creating Spark data frame\n",
    "\n",
    "dataFrame = mySpark.read.csv(inputFile,header=True)"
   ]
  },
  {
   "cell_type": "code",
   "execution_count": 5,
   "metadata": {},
   "outputs": [
    {
     "data": {
      "application/vnd.jupyter.widget-view+json": {
       "model_id": "ee1ced394aba4fff9ada47b0c47f238d",
       "version_major": 2,
       "version_minor": 0
      },
      "text/plain": [
       "VBox()"
      ]
     },
     "metadata": {},
     "output_type": "display_data"
    },
    {
     "data": {
      "application/vnd.jupyter.widget-view+json": {
       "model_id": "",
       "version_major": 2,
       "version_minor": 0
      },
      "text/plain": [
       "FloatProgress(value=0.0, bar_style='info', description='Progress:', layout=Layout(height='25px', width='50%'),…"
      ]
     },
     "metadata": {},
     "output_type": "display_data"
    },
    {
     "name": "stdout",
     "output_type": "stream",
     "text": [
      "root\n",
      " |-- Unique Key: string (nullable = true)\n",
      " |-- Created Date: string (nullable = true)\n",
      " |-- Closed Date: string (nullable = true)\n",
      " |-- Agency: string (nullable = true)\n",
      " |-- Agency Name: string (nullable = true)\n",
      " |-- Complaint Type: string (nullable = true)\n",
      " |-- Descriptor: string (nullable = true)\n",
      " |-- Location Type: string (nullable = true)\n",
      " |-- Incident Zip: string (nullable = true)\n",
      " |-- Incident Address: string (nullable = true)\n",
      " |-- Street Name: string (nullable = true)\n",
      " |-- Cross Street 1: string (nullable = true)\n",
      " |-- Cross Street 2: string (nullable = true)\n",
      " |-- Intersection Street 1: string (nullable = true)\n",
      " |-- Intersection Street 2: string (nullable = true)\n",
      " |-- Address Type: string (nullable = true)\n",
      " |-- City: string (nullable = true)\n",
      " |-- Landmark: string (nullable = true)\n",
      " |-- Facility Type: string (nullable = true)\n",
      " |-- Status: string (nullable = true)\n",
      " |-- Due Date: string (nullable = true)\n",
      " |-- Resolution Description: string (nullable = true)\n",
      " |-- Resolution Action Updated Date: string (nullable = true)\n",
      " |-- Community Board: string (nullable = true)\n",
      " |-- BBL: string (nullable = true)\n",
      " |-- Borough: string (nullable = true)\n",
      " |-- X Coordinate (State Plane): string (nullable = true)\n",
      " |-- Y Coordinate (State Plane): string (nullable = true)\n",
      " |-- Open Data Channel Type: string (nullable = true)\n",
      " |-- Park Facility Name: string (nullable = true)\n",
      " |-- Park Borough: string (nullable = true)\n",
      " |-- Vehicle Type: string (nullable = true)\n",
      " |-- Taxi Company Borough: string (nullable = true)\n",
      " |-- Taxi Pick Up Location: string (nullable = true)\n",
      " |-- Bridge Highway Name: string (nullable = true)\n",
      " |-- Bridge Highway Direction: string (nullable = true)\n",
      " |-- Road Ramp: string (nullable = true)\n",
      " |-- Bridge Highway Segment: string (nullable = true)\n",
      " |-- Latitude: string (nullable = true)\n",
      " |-- Longitude: string (nullable = true)\n",
      " |-- Location: string (nullable = true)"
     ]
    }
   ],
   "source": [
    "## Printing the schema \n",
    "\n",
    "dataFrame.printSchema()"
   ]
  },
  {
   "cell_type": "code",
   "execution_count": 6,
   "metadata": {},
   "outputs": [
    {
     "data": {
      "application/vnd.jupyter.widget-view+json": {
       "model_id": "bb951cb945584550bb9b20d268cff58f",
       "version_major": 2,
       "version_minor": 0
      },
      "text/plain": [
       "VBox()"
      ]
     },
     "metadata": {},
     "output_type": "display_data"
    },
    {
     "data": {
      "application/vnd.jupyter.widget-view+json": {
       "model_id": "",
       "version_major": 2,
       "version_minor": 0
      },
      "text/plain": [
       "FloatProgress(value=0.0, bar_style='info', description='Progress:', layout=Layout(height='25px', width='50%'),…"
      ]
     },
     "metadata": {},
     "output_type": "display_data"
    },
    {
     "name": "stdout",
     "output_type": "stream",
     "text": [
      "10420594"
     ]
    }
   ],
   "source": [
    "## Counting total number of records in the dataframe\n",
    "\n",
    "dataFrame.count()"
   ]
  },
  {
   "cell_type": "code",
   "execution_count": 7,
   "metadata": {},
   "outputs": [
    {
     "data": {
      "application/vnd.jupyter.widget-view+json": {
       "model_id": "a33608e19b3247ae84764c0290cccfc1",
       "version_major": 2,
       "version_minor": 0
      },
      "text/plain": [
       "VBox()"
      ]
     },
     "metadata": {},
     "output_type": "display_data"
    },
    {
     "data": {
      "application/vnd.jupyter.widget-view+json": {
       "model_id": "",
       "version_major": 2,
       "version_minor": 0
      },
      "text/plain": [
       "FloatProgress(value=0.0, bar_style='info', description='Progress:', layout=Layout(height='25px', width='50%'),…"
      ]
     },
     "metadata": {},
     "output_type": "display_data"
    }
   ],
   "source": [
    "## Dropping irrelevant columns and columns containing null values\n",
    "\n",
    "dataFrame = dataFrame.drop('Vehicle Type', 'Taxi Company Borough', 'Taxi Pick Up Location', 'Bridge Highway Name', \n",
    "                           'Bridge Highway Direction', 'Road Ramp', 'Bridge Highway Segment', 'Landmark', 'Latitude', \n",
    "                           'Longitude', 'Location', 'Incident Address', 'Resolution Description', 'Street Name', 'Cross Street 1',\n",
    "                           'Cross Street 2', 'Intersection Street 1', 'Intersection Street 2', 'Landmark', 'Agency', 'Descriptor',\n",
    "                           'City','Facility Type', 'Resolution Description', 'Community Board', 'X Coordinate (State Plane)', \n",
    "                           'Y Coordinate (State Plane)', 'Park Facility Name', 'Park Borough', 'Unique Key', 'Resolution Action Updated Date',\n",
    "                           'Due Date', 'BBL', 'Unique Key')"
   ]
  },
  {
   "cell_type": "code",
   "execution_count": 8,
   "metadata": {},
   "outputs": [
    {
     "data": {
      "application/vnd.jupyter.widget-view+json": {
       "model_id": "d36b8b7c82844fe083d648e0e47e5f1b",
       "version_major": 2,
       "version_minor": 0
      },
      "text/plain": [
       "VBox()"
      ]
     },
     "metadata": {},
     "output_type": "display_data"
    },
    {
     "data": {
      "application/vnd.jupyter.widget-view+json": {
       "model_id": "",
       "version_major": 2,
       "version_minor": 0
      },
      "text/plain": [
       "FloatProgress(value=0.0, bar_style='info', description='Progress:', layout=Layout(height='25px', width='50%'),…"
      ]
     },
     "metadata": {},
     "output_type": "display_data"
    }
   ],
   "source": [
    "## Selecting only 'Closed' status rows in the input dataframe\n",
    "\n",
    "dataFrame = dataFrame.filter(dataFrame.Status == 'Closed')"
   ]
  },
  {
   "cell_type": "code",
   "execution_count": 9,
   "metadata": {},
   "outputs": [
    {
     "data": {
      "application/vnd.jupyter.widget-view+json": {
       "model_id": "cd32d541bc164046b8bb700e7ff49573",
       "version_major": 2,
       "version_minor": 0
      },
      "text/plain": [
       "VBox()"
      ]
     },
     "metadata": {},
     "output_type": "display_data"
    },
    {
     "data": {
      "application/vnd.jupyter.widget-view+json": {
       "model_id": "",
       "version_major": 2,
       "version_minor": 0
      },
      "text/plain": [
       "FloatProgress(value=0.0, bar_style='info', description='Progress:', layout=Layout(height='25px', width='50%'),…"
      ]
     },
     "metadata": {},
     "output_type": "display_data"
    },
    {
     "name": "stdout",
     "output_type": "stream",
     "text": [
      "+------------------------------+\n",
      "|count(DISTINCT Complaint Type)|\n",
      "+------------------------------+\n",
      "|                           218|\n",
      "+------------------------------+"
     ]
    }
   ],
   "source": [
    "## Analyzing refined dataframe by using suitable methods \n",
    "\n",
    "#dataFrame.show(1)\n",
    "\n",
    "#dataFrame.limit(5).toPandas()\n",
    "\n",
    "#dataFrame.select('Incident Zip').distinct().show()\n",
    "\n",
    "#dataFrame.toPandas()['Address Type'].unique()\n",
    "\n",
    "#dataFrame.select(F.countDistinct(\"Incident Zip\")).show()\n",
    "\n",
    "#dataFrame.groupBy(\"Borough\").count().orderBy().show()\n",
    "\n",
    "dataFrame.select(F.countDistinct(\"Complaint Type\")).show()\n",
    "\n",
    "#dataFrame.select(F.countDistinct(\"Agency Name\")).show()"
   ]
  },
  {
   "cell_type": "code",
   "execution_count": 10,
   "metadata": {},
   "outputs": [
    {
     "data": {
      "application/vnd.jupyter.widget-view+json": {
       "model_id": "6e98ab2468804ef9bfa06e02159c2d7c",
       "version_major": 2,
       "version_minor": 0
      },
      "text/plain": [
       "VBox()"
      ]
     },
     "metadata": {},
     "output_type": "display_data"
    },
    {
     "data": {
      "application/vnd.jupyter.widget-view+json": {
       "model_id": "",
       "version_major": 2,
       "version_minor": 0
      },
      "text/plain": [
       "FloatProgress(value=0.0, bar_style='info', description='Progress:', layout=Layout(height='25px', width='50%'),…"
      ]
     },
     "metadata": {},
     "output_type": "display_data"
    }
   ],
   "source": [
    "## Finding out time taken to close a ticket in hours and creating a new output label\n",
    "## Output label column\n",
    "\n",
    "\n",
    "timeFmt = \"MM/dd/yyyy hh:mm:ss aa\"\n",
    "\n",
    "timeDiff = (F.unix_timestamp('Closed Date', format = timeFmt)\n",
    "            - F.unix_timestamp('Created Date', format = timeFmt))\n",
    "\n",
    "dataFrame = dataFrame.withColumn(\"Resolution_Time_Hours\", F.round(timeDiff/3600, 2))\n",
    "\n",
    "#timeDiff = (F.unix_timestamp('Closed Date', format = timeFmt)\n",
    " #           - F.unix_timestamp('Created Date', format = timeFmt))\n",
    "\n",
    "#dataFrame = dataFrame.withColumn(\"Resolution_Time_Hours\", F.round(timeDiff/3600, 2))"
   ]
  },
  {
   "cell_type": "code",
   "execution_count": 11,
   "metadata": {},
   "outputs": [
    {
     "data": {
      "application/vnd.jupyter.widget-view+json": {
       "model_id": "8c2b4ae14075402591e2452d56edbb9b",
       "version_major": 2,
       "version_minor": 0
      },
      "text/plain": [
       "VBox()"
      ]
     },
     "metadata": {},
     "output_type": "display_data"
    },
    {
     "data": {
      "application/vnd.jupyter.widget-view+json": {
       "model_id": "",
       "version_major": 2,
       "version_minor": 0
      },
      "text/plain": [
       "FloatProgress(value=0.0, bar_style='info', description='Progress:', layout=Layout(height='25px', width='50%'),…"
      ]
     },
     "metadata": {},
     "output_type": "display_data"
    }
   ],
   "source": [
    "## Creating new columns for ticket creation month, day, day of week and hour\n",
    "\n",
    "dataFrame = dataFrame.withColumn(\"Created_Date_Timestamp\", F.unix_timestamp('Created Date', format = timeFmt).cast('timestamp'))\n",
    "\n",
    "dataFrame = dataFrame.withColumn(\"Complaint_Created_Day\", F.dayofmonth('Created_Date_Timestamp'))\n",
    "\n",
    "dataFrame = dataFrame.withColumn(\"Complaint_Created_Month\", F.month('Created_Date_Timestamp'))\n",
    "\n",
    "dataFrame = dataFrame.withColumn(\"Complaint_Created_DayOfWeek\", F.dayofweek('Created_Date_Timestamp'))\n",
    "\n",
    "dataFrame = dataFrame.withColumn(\"Complaint_Created_Hour\", F.hour('Created_Date_Timestamp'))"
   ]
  },
  {
   "cell_type": "code",
   "execution_count": 12,
   "metadata": {},
   "outputs": [
    {
     "data": {
      "application/vnd.jupyter.widget-view+json": {
       "model_id": "6991a7bfa3c04c76a242e377d8072da0",
       "version_major": 2,
       "version_minor": 0
      },
      "text/plain": [
       "VBox()"
      ]
     },
     "metadata": {},
     "output_type": "display_data"
    },
    {
     "data": {
      "application/vnd.jupyter.widget-view+json": {
       "model_id": "",
       "version_major": 2,
       "version_minor": 0
      },
      "text/plain": [
       "FloatProgress(value=0.0, bar_style='info', description='Progress:', layout=Layout(height='25px', width='50%'),…"
      ]
     },
     "metadata": {},
     "output_type": "display_data"
    },
    {
     "name": "stdout",
     "output_type": "stream",
     "text": [
      "+-------+---------------------+\n",
      "|summary|Resolution_Time_Hours|\n",
      "+-------+---------------------+\n",
      "|  count|              9870837|\n",
      "|   mean|    287.6464866778801|\n",
      "| stddev|    4514.653800656453|\n",
      "|    min|          -1028338.01|\n",
      "|    max|           8855068.03|\n",
      "+-------+---------------------+"
     ]
    }
   ],
   "source": [
    "## Summary statistics of column Resolution_Time_Hours\n",
    "\n",
    "dataFrame.describe('Resolution_Time_Hours').show()"
   ]
  },
  {
   "cell_type": "code",
   "execution_count": 13,
   "metadata": {},
   "outputs": [
    {
     "data": {
      "application/vnd.jupyter.widget-view+json": {
       "model_id": "0154680fced24c1aa80f8c6db29a3ec2",
       "version_major": 2,
       "version_minor": 0
      },
      "text/plain": [
       "VBox()"
      ]
     },
     "metadata": {},
     "output_type": "display_data"
    },
    {
     "data": {
      "application/vnd.jupyter.widget-view+json": {
       "model_id": "",
       "version_major": 2,
       "version_minor": 0
      },
      "text/plain": [
       "FloatProgress(value=0.0, bar_style='info', description='Progress:', layout=Layout(height='25px', width='50%'),…"
      ]
     },
     "metadata": {},
     "output_type": "display_data"
    }
   ],
   "source": [
    "## Dropping irrelevant columns further from the dataframe\n",
    "\n",
    "dataFrame = dataFrame.drop('Created Date', 'Closed Date', 'Created_Date_Timestamp', 'Status', \n",
    "                           'Location Type', 'Resolution_Time')"
   ]
  },
  {
   "cell_type": "code",
   "execution_count": 14,
   "metadata": {},
   "outputs": [
    {
     "data": {
      "application/vnd.jupyter.widget-view+json": {
       "model_id": "c348a92d0aa24909b568e417a17895a2",
       "version_major": 2,
       "version_minor": 0
      },
      "text/plain": [
       "VBox()"
      ]
     },
     "metadata": {},
     "output_type": "display_data"
    },
    {
     "data": {
      "application/vnd.jupyter.widget-view+json": {
       "model_id": "",
       "version_major": 2,
       "version_minor": 0
      },
      "text/plain": [
       "FloatProgress(value=0.0, bar_style='info', description='Progress:', layout=Layout(height='25px', width='50%'),…"
      ]
     },
     "metadata": {},
     "output_type": "display_data"
    }
   ],
   "source": [
    "## Dropping all null values from the refined dataframe\n",
    "\n",
    "dataFrame = dataFrame.dropna()"
   ]
  },
  {
   "cell_type": "code",
   "execution_count": 15,
   "metadata": {},
   "outputs": [
    {
     "data": {
      "application/vnd.jupyter.widget-view+json": {
       "model_id": "51e01149438b4307adaf5678af7517d3",
       "version_major": 2,
       "version_minor": 0
      },
      "text/plain": [
       "VBox()"
      ]
     },
     "metadata": {},
     "output_type": "display_data"
    },
    {
     "data": {
      "application/vnd.jupyter.widget-view+json": {
       "model_id": "",
       "version_major": 2,
       "version_minor": 0
      },
      "text/plain": [
       "FloatProgress(value=0.0, bar_style='info', description='Progress:', layout=Layout(height='25px', width='50%'),…"
      ]
     },
     "metadata": {},
     "output_type": "display_data"
    }
   ],
   "source": [
    "## Finding distinct values for column Resolution_Time_Hours\n",
    "\n",
    "for i in dataFrame.columns:\n",
    "    if i == 'Resolution_Time_Hours':\n",
    "        resolutionTimeDf = dataFrame.groupBy(i).count().orderBy('count', ascending=False)"
   ]
  },
  {
   "cell_type": "code",
   "execution_count": 16,
   "metadata": {},
   "outputs": [
    {
     "data": {
      "application/vnd.jupyter.widget-view+json": {
       "model_id": "cbcb27f00a1c4039a388a6e2721648ea",
       "version_major": 2,
       "version_minor": 0
      },
      "text/plain": [
       "VBox()"
      ]
     },
     "metadata": {},
     "output_type": "display_data"
    },
    {
     "data": {
      "application/vnd.jupyter.widget-view+json": {
       "model_id": "",
       "version_major": 2,
       "version_minor": 0
      },
      "text/plain": [
       "FloatProgress(value=0.0, bar_style='info', description='Progress:', layout=Layout(height='25px', width='50%'),…"
      ]
     },
     "metadata": {},
     "output_type": "display_data"
    },
    {
     "name": "stdout",
     "output_type": "stream",
     "text": [
      "+---------------------+-----+\n",
      "|Resolution_Time_Hours|count|\n",
      "+---------------------+-----+\n",
      "|               951.85|    2|\n",
      "|                 2.89| 4031|\n",
      "|                 1.74| 5477|\n",
      "|                 0.85| 8581|\n",
      "|                 4.14| 2707|\n",
      "|                 0.31| 6079|\n",
      "|              1443.08|    3|\n",
      "|                54.02|  203|\n",
      "|                 8.25| 1126|\n",
      "|               172.05|  125|\n",
      "|                 69.5|  262|\n",
      "|                 7.77| 1172|\n",
      "|               635.56|    4|\n",
      "|               161.37|  102|\n",
      "|               431.29|   33|\n",
      "|                29.42|  427|\n",
      "|               431.37|   34|\n",
      "|                14.42|  518|\n",
      "|               1598.4|    2|\n",
      "|              1004.31|    8|\n",
      "+---------------------+-----+\n",
      "only showing top 20 rows"
     ]
    }
   ],
   "source": [
    "## Finding distinct values for column Resolution_Time_Hours using cube function\n",
    "\n",
    "dataFrame.cube(\"Resolution_Time_Hours\").count().show()"
   ]
  },
  {
   "cell_type": "code",
   "execution_count": 17,
   "metadata": {},
   "outputs": [
    {
     "data": {
      "application/vnd.jupyter.widget-view+json": {
       "model_id": "640e856818ed42c8a0eba5659166b74c",
       "version_major": 2,
       "version_minor": 0
      },
      "text/plain": [
       "VBox()"
      ]
     },
     "metadata": {},
     "output_type": "display_data"
    },
    {
     "data": {
      "application/vnd.jupyter.widget-view+json": {
       "model_id": "",
       "version_major": 2,
       "version_minor": 0
      },
      "text/plain": [
       "FloatProgress(value=0.0, bar_style='info', description='Progress:', layout=Layout(height='25px', width='50%'),…"
      ]
     },
     "metadata": {},
     "output_type": "display_data"
    }
   ],
   "source": [
    "## Finding percentage of each Resolution_Time_Hours in the dataframe\n",
    "\n",
    "resolutionTimeDf = resolutionTimeDf.withColumn('Percentage',(resolutionTimeDf['count']/dataFrame.count()) * 100)\n"
   ]
  },
  {
   "cell_type": "code",
   "execution_count": 18,
   "metadata": {},
   "outputs": [
    {
     "data": {
      "application/vnd.jupyter.widget-view+json": {
       "model_id": "f7e3533ae05b44fc8fff885ba5560646",
       "version_major": 2,
       "version_minor": 0
      },
      "text/plain": [
       "VBox()"
      ]
     },
     "metadata": {},
     "output_type": "display_data"
    },
    {
     "data": {
      "application/vnd.jupyter.widget-view+json": {
       "model_id": "",
       "version_major": 2,
       "version_minor": 0
      },
      "text/plain": [
       "FloatProgress(value=0.0, bar_style='info', description='Progress:', layout=Layout(height='25px', width='50%'),…"
      ]
     },
     "metadata": {},
     "output_type": "display_data"
    }
   ],
   "source": [
    "## Rounding value of percentage column \n",
    "\n",
    "resolutionTimeDf = resolutionTimeDf.withColumn(\"Percentage\", F.round(resolutionTimeDf[\"Percentage\"]))\n"
   ]
  },
  {
   "cell_type": "code",
   "execution_count": 19,
   "metadata": {},
   "outputs": [
    {
     "data": {
      "application/vnd.jupyter.widget-view+json": {
       "model_id": "965e50cc9ea947e1b6cb1ae2d8de1e44",
       "version_major": 2,
       "version_minor": 0
      },
      "text/plain": [
       "VBox()"
      ]
     },
     "metadata": {},
     "output_type": "display_data"
    },
    {
     "data": {
      "application/vnd.jupyter.widget-view+json": {
       "model_id": "",
       "version_major": 2,
       "version_minor": 0
      },
      "text/plain": [
       "FloatProgress(value=0.0, bar_style='info', description='Progress:', layout=Layout(height='25px', width='50%'),…"
      ]
     },
     "metadata": {},
     "output_type": "display_data"
    },
    {
     "name": "stdout",
     "output_type": "stream",
     "text": [
      "+---------------------+------+----------+\n",
      "|Resolution_Time_Hours| count|Percentage|\n",
      "+---------------------+------+----------+\n",
      "|                  0.0|253340|       3.0|\n",
      "|                 24.0| 50848|       1.0|\n",
      "|                71.64|   165|       0.0|\n",
      "|                88.53|   170|       0.0|\n",
      "|              1936.58|     2|       0.0|\n",
      "|                 1.05|  8170|       0.0|\n",
      "|               137.38|    96|       0.0|\n",
      "|                 5.62|  2039|       0.0|\n",
      "|                 0.72|  8457|       0.0|\n",
      "|                 45.4|   405|       0.0|\n",
      "|                 2.27|  5889|       0.0|\n",
      "|                44.55|   396|       0.0|\n",
      "|                 6.73|  1564|       0.0|\n",
      "|                 5.66|  1803|       0.0|\n",
      "|               105.85|   121|       0.0|\n",
      "|                91.99|    88|       0.0|\n",
      "|               113.73|   168|       0.0|\n",
      "|              1993.29|     2|       0.0|\n",
      "|               233.78|    41|       0.0|\n",
      "|                24.75|   800|       0.0|\n",
      "|                73.79|   185|       0.0|\n",
      "|                 5.63|  2153|       0.0|\n",
      "|                18.01|   299|       0.0|\n",
      "|                 50.8|   445|       0.0|\n",
      "|                167.0|   199|       0.0|\n",
      "|                46.37|   374|       0.0|\n",
      "|               1744.4|     3|       0.0|\n",
      "|              1179.15|     8|       0.0|\n",
      "|              1342.33|     4|       0.0|\n",
      "|                73.26|   126|       0.0|\n",
      "|                67.52|   274|       0.0|\n",
      "|                92.63|   203|       0.0|\n",
      "|                 86.4|   176|       0.0|\n",
      "|               346.19|    17|       0.0|\n",
      "|               189.62|   138|       0.0|\n",
      "|                10.59|   449|       0.0|\n",
      "|               581.62|     6|       0.0|\n",
      "|               215.35|   117|       0.0|\n",
      "|              1460.93|    21|       0.0|\n",
      "|               551.94|     6|       0.0|\n",
      "|               169.22|   201|       0.0|\n",
      "|                16.21|   272|       0.0|\n",
      "|              5552.87|     1|       0.0|\n",
      "|               163.48|   140|       0.0|\n",
      "|               362.35|    45|       0.0|\n",
      "|               183.45|    78|       0.0|\n",
      "|               383.82|    52|       0.0|\n",
      "|               144.67|   198|       0.0|\n",
      "|                48.41|   178|       0.0|\n",
      "|               366.42|    31|       0.0|\n",
      "+---------------------+------+----------+\n",
      "only showing top 50 rows"
     ]
    }
   ],
   "source": [
    "## Sorting and identifying the percentage of each Resolution_Time_Hours\n",
    "\n",
    "from pyspark.sql.functions import desc\n",
    "\n",
    "resolutionTimeDf.sort(desc('Percentage')).show(50)"
   ]
  },
  {
   "cell_type": "code",
   "execution_count": 20,
   "metadata": {},
   "outputs": [
    {
     "data": {
      "application/vnd.jupyter.widget-view+json": {
       "model_id": "ae206490e42445bd9ff05bd1652be545",
       "version_major": 2,
       "version_minor": 0
      },
      "text/plain": [
       "VBox()"
      ]
     },
     "metadata": {},
     "output_type": "display_data"
    },
    {
     "data": {
      "application/vnd.jupyter.widget-view+json": {
       "model_id": "",
       "version_major": 2,
       "version_minor": 0
      },
      "text/plain": [
       "FloatProgress(value=0.0, bar_style='info', description='Progress:', layout=Layout(height='25px', width='50%'),…"
      ]
     },
     "metadata": {},
     "output_type": "display_data"
    }
   ],
   "source": [
    "## Removing extreme outlier values from the dataframe for column Resolution_Time_Hours\n",
    "\n",
    "dataFrame = dataFrame.filter(dataFrame.Resolution_Time_Hours > 0)\n",
    "dataFrame = dataFrame.filter(dataFrame.Resolution_Time_Hours < 5)"
   ]
  },
  {
   "cell_type": "code",
   "execution_count": 21,
   "metadata": {},
   "outputs": [
    {
     "data": {
      "application/vnd.jupyter.widget-view+json": {
       "model_id": "cc69cf43beeb47ea84c5308cd729392a",
       "version_major": 2,
       "version_minor": 0
      },
      "text/plain": [
       "VBox()"
      ]
     },
     "metadata": {},
     "output_type": "display_data"
    },
    {
     "data": {
      "application/vnd.jupyter.widget-view+json": {
       "model_id": "",
       "version_major": 2,
       "version_minor": 0
      },
      "text/plain": [
       "FloatProgress(value=0.0, bar_style='info', description='Progress:', layout=Layout(height='25px', width='50%'),…"
      ]
     },
     "metadata": {},
     "output_type": "display_data"
    }
   ],
   "source": [
    "## Grouping Complaint Type column under common issues 'Noise' and 'Street'\n",
    "\n",
    "from pyspark.sql.functions import lit, when, col\n",
    "\n",
    "dataFrame = dataFrame.withColumn('Complaint Type', when(\n",
    "    (col(\"Complaint Type\") == \"Noise - Street/Sidewalk\") \n",
    "    | (col(\"Complaint Type\") == \"Noise - Commercial\") \n",
    "    | (col(\"Complaint Type\") == \"Noise - Vehicle\") \n",
    "    | (col(\"Complaint Type\") == \"Noise - Residential\")\n",
    "    | (col(\"Complaint Type\") == \"Noise - Helicopter\"), \"Noise\"\n",
    ").otherwise(col('Complaint Type')))\n",
    "\n",
    "dataFrame = dataFrame.withColumn('Complaint Type', when(\n",
    "    (col(\"Complaint Type\") == \"Street Condition\") \n",
    "    | (col(\"Complaint Type\") == \"Street Light Condition\") \n",
    "    | (col(\"Complaint Type\") == \"Street Sign - Missing\"), \"Street Issue\"\n",
    ").otherwise(col('Complaint Type')))"
   ]
  },
  {
   "cell_type": "code",
   "execution_count": 22,
   "metadata": {},
   "outputs": [
    {
     "data": {
      "application/vnd.jupyter.widget-view+json": {
       "model_id": "80dca02dee6b4e2eb7e341431ee5e773",
       "version_major": 2,
       "version_minor": 0
      },
      "text/plain": [
       "VBox()"
      ]
     },
     "metadata": {},
     "output_type": "display_data"
    },
    {
     "data": {
      "application/vnd.jupyter.widget-view+json": {
       "model_id": "",
       "version_major": 2,
       "version_minor": 0
      },
      "text/plain": [
       "FloatProgress(value=0.0, bar_style='info', description='Progress:', layout=Layout(height='25px', width='50%'),…"
      ]
     },
     "metadata": {},
     "output_type": "display_data"
    },
    {
     "name": "stdout",
     "output_type": "stream",
     "text": [
      "+-------+---------------------+\n",
      "|summary|Resolution_Time_Hours|\n",
      "+-------+---------------------+\n",
      "|  count|              2574584|\n",
      "|   mean|   1.9813040669871351|\n",
      "| stddev|   1.3404318176633905|\n",
      "|    min|                 0.01|\n",
      "|    max|                 4.99|\n",
      "+-------+---------------------+"
     ]
    }
   ],
   "source": [
    "## Summary statistics of column Resolution_Time_Hours\n",
    "\n",
    "dataFrame.describe('Resolution_Time_Hours').show()"
   ]
  },
  {
   "cell_type": "code",
   "execution_count": 23,
   "metadata": {},
   "outputs": [
    {
     "data": {
      "application/vnd.jupyter.widget-view+json": {
       "model_id": "0fc747431f3a408784616b65c6c742b7",
       "version_major": 2,
       "version_minor": 0
      },
      "text/plain": [
       "VBox()"
      ]
     },
     "metadata": {},
     "output_type": "display_data"
    },
    {
     "data": {
      "application/vnd.jupyter.widget-view+json": {
       "model_id": "",
       "version_major": 2,
       "version_minor": 0
      },
      "text/plain": [
       "FloatProgress(value=0.0, bar_style='info', description='Progress:', layout=Layout(height='25px', width='50%'),…"
      ]
     },
     "metadata": {},
     "output_type": "display_data"
    },
    {
     "name": "stdout",
     "output_type": "stream",
     "text": [
      "root\n",
      " |-- Agency Name: string (nullable = true)\n",
      " |-- Complaint Type: string (nullable = true)\n",
      " |-- Incident Zip: string (nullable = true)\n",
      " |-- Address Type: string (nullable = true)\n",
      " |-- Borough: string (nullable = true)\n",
      " |-- Open Data Channel Type: string (nullable = true)\n",
      " |-- Resolution_Time_Hours: double (nullable = true)\n",
      " |-- Complaint_Created_Day: integer (nullable = true)\n",
      " |-- Complaint_Created_Month: integer (nullable = true)\n",
      " |-- Complaint_Created_DayOfWeek: integer (nullable = true)\n",
      " |-- Complaint_Created_Hour: integer (nullable = true)"
     ]
    }
   ],
   "source": [
    "## Printing the revised schema \n",
    "\n",
    "dataFrame.printSchema()"
   ]
  },
  {
   "cell_type": "code",
   "execution_count": 24,
   "metadata": {},
   "outputs": [
    {
     "data": {
      "application/vnd.jupyter.widget-view+json": {
       "model_id": "5e6ae5bffac64472a16f7023c1d7cace",
       "version_major": 2,
       "version_minor": 0
      },
      "text/plain": [
       "VBox()"
      ]
     },
     "metadata": {},
     "output_type": "display_data"
    },
    {
     "data": {
      "application/vnd.jupyter.widget-view+json": {
       "model_id": "",
       "version_major": 2,
       "version_minor": 0
      },
      "text/plain": [
       "FloatProgress(value=0.0, bar_style='info', description='Progress:', layout=Layout(height='25px', width='50%'),…"
      ]
     },
     "metadata": {},
     "output_type": "display_data"
    },
    {
     "name": "stdout",
     "output_type": "stream",
     "text": [
      "0"
     ]
    }
   ],
   "source": [
    "## Checking existence of all null values in columns before building model\n",
    "\n",
    "dataFrame.filter(dataFrame[\"Complaint Type\"].isNull()).count()\n",
    "#dataFrame.filter(dataFrame[\"Incident Zip\"].isNull()).count()\n",
    "#dataFrame.filter(dataFrame[\"Borough\"].isNull()).count()\n",
    "#dataFrame.filter(dataFrame[\"Open Data Channel Type\"].isNull()).count()\n",
    "#dataFrame.filter(dataFrame[\"Agency Name\"].isNull()).count()\n",
    "#dataFrame.filter(dataFrame[\"Address Type\"].isNull()).count()\n",
    "#dataFrame.filter(dataFrame[\"Resolution_Time_Hours\"].isNull()).count()\n",
    "#dataFrame.filter(dataFrame[\"Complaint_Created_Day\"].isNull()).count()\n",
    "#dataFrame.filter(dataFrame[\"Complaint_Created_Month\"].isNull()).count()\n",
    "#dataFrame.filter(dataFrame[\"Complaint_Created_DayOfWeek\"].isNull()).count()\n",
    "#dataFrame.filter(dataFrame[\"Complaint_Created_Hour\"].isNull()).count()"
   ]
  },
  {
   "cell_type": "code",
   "execution_count": 25,
   "metadata": {},
   "outputs": [
    {
     "data": {
      "application/vnd.jupyter.widget-view+json": {
       "model_id": "4df560ab69604f8fa236713d390c6038",
       "version_major": 2,
       "version_minor": 0
      },
      "text/plain": [
       "VBox()"
      ]
     },
     "metadata": {},
     "output_type": "display_data"
    },
    {
     "data": {
      "application/vnd.jupyter.widget-view+json": {
       "model_id": "",
       "version_major": 2,
       "version_minor": 0
      },
      "text/plain": [
       "FloatProgress(value=0.0, bar_style='info', description='Progress:', layout=Layout(height='25px', width='50%'),…"
      ]
     },
     "metadata": {},
     "output_type": "display_data"
    }
   ],
   "source": [
    "## Removing rows containing null values for key columns\n",
    "\n",
    "dataFrame = dataFrame.where(dataFrame[\"Incident Zip\"].isNotNull())\n",
    "#dataFrame = dataFrame.where(dataFrame[\"Address Type\"].isNotNull())"
   ]
  },
  {
   "cell_type": "code",
   "execution_count": 26,
   "metadata": {},
   "outputs": [
    {
     "data": {
      "application/vnd.jupyter.widget-view+json": {
       "model_id": "a7c83a2621754e3c9d58805af52b7b31",
       "version_major": 2,
       "version_minor": 0
      },
      "text/plain": [
       "VBox()"
      ]
     },
     "metadata": {},
     "output_type": "display_data"
    },
    {
     "data": {
      "application/vnd.jupyter.widget-view+json": {
       "model_id": "",
       "version_major": 2,
       "version_minor": 0
      },
      "text/plain": [
       "FloatProgress(value=0.0, bar_style='info', description='Progress:', layout=Layout(height='25px', width='50%'),…"
      ]
     },
     "metadata": {},
     "output_type": "display_data"
    }
   ],
   "source": [
    "## Finding distinct values for column Complaint Type\n",
    "\n",
    "for i in dataFrame.columns:\n",
    "    if i == 'Complaint Type':\n",
    "        complaintDf = dataFrame.groupBy(i).count().orderBy('count', ascending=False)"
   ]
  },
  {
   "cell_type": "code",
   "execution_count": 27,
   "metadata": {},
   "outputs": [
    {
     "data": {
      "application/vnd.jupyter.widget-view+json": {
       "model_id": "8836ffafa9a34a439a2c751f17a84d42",
       "version_major": 2,
       "version_minor": 0
      },
      "text/plain": [
       "VBox()"
      ]
     },
     "metadata": {},
     "output_type": "display_data"
    },
    {
     "data": {
      "application/vnd.jupyter.widget-view+json": {
       "model_id": "",
       "version_major": 2,
       "version_minor": 0
      },
      "text/plain": [
       "FloatProgress(value=0.0, bar_style='info', description='Progress:', layout=Layout(height='25px', width='50%'),…"
      ]
     },
     "metadata": {},
     "output_type": "display_data"
    },
    {
     "name": "stdout",
     "output_type": "stream",
     "text": [
      "+--------------------+-----+\n",
      "|      Complaint Type|count|\n",
      "+--------------------+-----+\n",
      "|            Graffiti|  278|\n",
      "|       Drug Activity| 3339|\n",
      "|Emergency Respons...|  146|\n",
      "| Hazardous Materials|10451|\n",
      "|            ELECTRIC|  168|\n",
      "|DOF Property - RP...|  362|\n",
      "|    Advocate - Other|  250|\n",
      "|    Alzheimer's Care|    3|\n",
      "|       Water Quality|  107|\n",
      "|Recycling Enforce...|   43|\n",
      "|      Adopt-A-Basket|    4|\n",
      "|             GENERAL|  302|\n",
      "|Overflowing Litte...|  519|\n",
      "|Special Projects ...|   65|\n",
      "|DOF Property - Ci...|   10|\n",
      "| Cranes and Derricks|   35|\n",
      "|DOF Property - Ow...| 2854|\n",
      "|            Plumbing|   99|\n",
      "|    Animal in a Park|  809|\n",
      "|Advocate-Personal...|  721|\n",
      "+--------------------+-----+\n",
      "only showing top 20 rows"
     ]
    }
   ],
   "source": [
    "## Finding distinct values for column Complaint Type using cube function\n",
    "\n",
    "dataFrame.cube(\"Complaint Type\").count().show()"
   ]
  },
  {
   "cell_type": "code",
   "execution_count": 28,
   "metadata": {},
   "outputs": [
    {
     "data": {
      "application/vnd.jupyter.widget-view+json": {
       "model_id": "73eaf2910cc848c183bd57ca2ede1296",
       "version_major": 2,
       "version_minor": 0
      },
      "text/plain": [
       "VBox()"
      ]
     },
     "metadata": {},
     "output_type": "display_data"
    },
    {
     "data": {
      "application/vnd.jupyter.widget-view+json": {
       "model_id": "",
       "version_major": 2,
       "version_minor": 0
      },
      "text/plain": [
       "FloatProgress(value=0.0, bar_style='info', description='Progress:', layout=Layout(height='25px', width='50%'),…"
      ]
     },
     "metadata": {},
     "output_type": "display_data"
    },
    {
     "name": "stdout",
     "output_type": "stream",
     "text": [
      "2574584"
     ]
    }
   ],
   "source": [
    "## Counting total number of records in the dataframe post refinement\n",
    "\n",
    "dataFrame.count()"
   ]
  },
  {
   "cell_type": "code",
   "execution_count": 29,
   "metadata": {},
   "outputs": [
    {
     "data": {
      "application/vnd.jupyter.widget-view+json": {
       "model_id": "987cf188369340c391786fdb23338bd7",
       "version_major": 2,
       "version_minor": 0
      },
      "text/plain": [
       "VBox()"
      ]
     },
     "metadata": {},
     "output_type": "display_data"
    },
    {
     "data": {
      "application/vnd.jupyter.widget-view+json": {
       "model_id": "",
       "version_major": 2,
       "version_minor": 0
      },
      "text/plain": [
       "FloatProgress(value=0.0, bar_style='info', description='Progress:', layout=Layout(height='25px', width='50%'),…"
      ]
     },
     "metadata": {},
     "output_type": "display_data"
    }
   ],
   "source": [
    "## Finding percentage of each complaint type in the dataframe\n",
    "\n",
    "complaintDf = complaintDf.withColumn('Percentage',(complaintDf['count']/dataFrame.count()) * 100)"
   ]
  },
  {
   "cell_type": "code",
   "execution_count": 30,
   "metadata": {},
   "outputs": [
    {
     "data": {
      "application/vnd.jupyter.widget-view+json": {
       "model_id": "1a5f2756fb8c4c758e05de364e1a832a",
       "version_major": 2,
       "version_minor": 0
      },
      "text/plain": [
       "VBox()"
      ]
     },
     "metadata": {},
     "output_type": "display_data"
    },
    {
     "data": {
      "application/vnd.jupyter.widget-view+json": {
       "model_id": "",
       "version_major": 2,
       "version_minor": 0
      },
      "text/plain": [
       "FloatProgress(value=0.0, bar_style='info', description='Progress:', layout=Layout(height='25px', width='50%'),…"
      ]
     },
     "metadata": {},
     "output_type": "display_data"
    }
   ],
   "source": [
    "## Rounding value of percentage column \n",
    "\n",
    "complaintDf = complaintDf.withColumn(\"Percentage\", F.round(complaintDf[\"Percentage\"], 3))"
   ]
  },
  {
   "cell_type": "code",
   "execution_count": 31,
   "metadata": {},
   "outputs": [
    {
     "data": {
      "application/vnd.jupyter.widget-view+json": {
       "model_id": "f89a837e58324e38bc4792089211e926",
       "version_major": 2,
       "version_minor": 0
      },
      "text/plain": [
       "VBox()"
      ]
     },
     "metadata": {},
     "output_type": "display_data"
    },
    {
     "data": {
      "application/vnd.jupyter.widget-view+json": {
       "model_id": "",
       "version_major": 2,
       "version_minor": 0
      },
      "text/plain": [
       "FloatProgress(value=0.0, bar_style='info', description='Progress:', layout=Layout(height='25px', width='50%'),…"
      ]
     },
     "metadata": {},
     "output_type": "display_data"
    },
    {
     "name": "stdout",
     "output_type": "stream",
     "text": [
      "+--------------------+-------+----------+\n",
      "|      Complaint Type|  count|Percentage|\n",
      "+--------------------+-------+----------+\n",
      "|               Noise|1154894|    44.857|\n",
      "|     Illegal Parking| 389730|    15.138|\n",
      "|    Blocked Driveway| 355023|     13.79|\n",
      "|        Water System|  89019|     3.458|\n",
      "|    Derelict Vehicle|  75486|     2.932|\n",
      "|Homeless Person A...|  73076|     2.838|\n",
      "|Traffic Signal Co...|  63187|     2.454|\n",
      "|               Sewer|  62638|     2.433|\n",
      "|        Animal Abuse|  26834|     1.042|\n",
      "|Non-Emergency Pol...|  26366|     1.024|\n",
      "|        Street Issue|  23526|     0.914|\n",
      "|      HEAT/HOT WATER|  20706|     0.804|\n",
      "|             Traffic|  16675|     0.648|\n",
      "|Sanitation Condition|  15439|       0.6|\n",
      "|             Vending|  14359|     0.558|\n",
      "| Homeless Encampment|  14342|     0.557|\n",
      "|        Noise - Park|  13452|     0.522|\n",
      "|Missed Collection...|  11837|      0.46|\n",
      "|  Water Conservation|  11520|     0.447|\n",
      "| Hazardous Materials|  10451|     0.406|\n",
      "+--------------------+-------+----------+\n",
      "only showing top 20 rows"
     ]
    }
   ],
   "source": [
    "## Sorting and identifying the percentage of each complaint type\n",
    "\n",
    "from pyspark.sql.functions import desc\n",
    "\n",
    "complaintDf.sort(desc('Percentage')).show(20)"
   ]
  },
  {
   "cell_type": "code",
   "execution_count": 32,
   "metadata": {},
   "outputs": [
    {
     "data": {
      "application/vnd.jupyter.widget-view+json": {
       "model_id": "938798a6287f4666bd481d4475688862",
       "version_major": 2,
       "version_minor": 0
      },
      "text/plain": [
       "VBox()"
      ]
     },
     "metadata": {},
     "output_type": "display_data"
    },
    {
     "data": {
      "application/vnd.jupyter.widget-view+json": {
       "model_id": "",
       "version_major": 2,
       "version_minor": 0
      },
      "text/plain": [
       "FloatProgress(value=0.0, bar_style='info', description='Progress:', layout=Layout(height='25px', width='50%'),…"
      ]
     },
     "metadata": {},
     "output_type": "display_data"
    },
    {
     "name": "stdout",
     "output_type": "stream",
     "text": [
      "+----------------+-------+----------+\n",
      "|  Complaint Type|  count|Percentage|\n",
      "+----------------+-------+----------+\n",
      "|           Noise|1154894|    44.857|\n",
      "| Illegal Parking| 389730|    15.138|\n",
      "|Blocked Driveway| 355023|     13.79|\n",
      "+----------------+-------+----------+"
     ]
    }
   ],
   "source": [
    "## Checking complaint types for a certain percentage of records  \n",
    "\n",
    "complaintDf.filter(complaintDf.Percentage > 5).show(10)"
   ]
  },
  {
   "cell_type": "code",
   "execution_count": 33,
   "metadata": {},
   "outputs": [
    {
     "data": {
      "application/vnd.jupyter.widget-view+json": {
       "model_id": "6334b339861a4e809c8e542735d097b5",
       "version_major": 2,
       "version_minor": 0
      },
      "text/plain": [
       "VBox()"
      ]
     },
     "metadata": {},
     "output_type": "display_data"
    },
    {
     "data": {
      "application/vnd.jupyter.widget-view+json": {
       "model_id": "",
       "version_major": 2,
       "version_minor": 0
      },
      "text/plain": [
       "FloatProgress(value=0.0, bar_style='info', description='Progress:', layout=Layout(height='25px', width='50%'),…"
      ]
     },
     "metadata": {},
     "output_type": "display_data"
    }
   ],
   "source": [
    "## Renaming column\n",
    "\n",
    "dataFrame = dataFrame.withColumnRenamed(\"Complaint Type\", \"Complaint_Type\")"
   ]
  },
  {
   "cell_type": "code",
   "execution_count": 34,
   "metadata": {},
   "outputs": [
    {
     "data": {
      "application/vnd.jupyter.widget-view+json": {
       "model_id": "06519c088f9e4feb8c3fef4ab097d373",
       "version_major": 2,
       "version_minor": 0
      },
      "text/plain": [
       "VBox()"
      ]
     },
     "metadata": {},
     "output_type": "display_data"
    },
    {
     "data": {
      "application/vnd.jupyter.widget-view+json": {
       "model_id": "",
       "version_major": 2,
       "version_minor": 0
      },
      "text/plain": [
       "FloatProgress(value=0.0, bar_style='info', description='Progress:', layout=Layout(height='25px', width='50%'),…"
      ]
     },
     "metadata": {},
     "output_type": "display_data"
    }
   ],
   "source": [
    "## Dropping all rows containing less than 5% records for individual complaint type from the original dataframe\n",
    "\n",
    "#dataFrame = dataFrame.filter(dataFrame.Complaint_Type != 'Noise')\n",
    "#dataFrame = dataFrame.filter(dataFrame.Complaint_Type != 'Illegal Parking')\n",
    "#dataFrame = dataFrame.filter(dataFrame.Complaint_Type != 'Blocked Driveway')\n",
    "\n",
    "dataFrame = dataFrame.filter((dataFrame.Complaint_Type == 'Noise') | (dataFrame.Complaint_Type == 'Illegal Parking') | (dataFrame.Complaint_Type == 'Blocked Driveway'))\n"
   ]
  },
  {
   "cell_type": "code",
   "execution_count": 35,
   "metadata": {},
   "outputs": [
    {
     "data": {
      "application/vnd.jupyter.widget-view+json": {
       "model_id": "d5776f643f054ab9bf47905df7d7befb",
       "version_major": 2,
       "version_minor": 0
      },
      "text/plain": [
       "VBox()"
      ]
     },
     "metadata": {},
     "output_type": "display_data"
    },
    {
     "data": {
      "application/vnd.jupyter.widget-view+json": {
       "model_id": "",
       "version_major": 2,
       "version_minor": 0
      },
      "text/plain": [
       "FloatProgress(value=0.0, bar_style='info', description='Progress:', layout=Layout(height='25px', width='50%'),…"
      ]
     },
     "metadata": {},
     "output_type": "display_data"
    },
    {
     "name": "stdout",
     "output_type": "stream",
     "text": [
      "+----------------+\n",
      "|  Complaint_Type|\n",
      "+----------------+\n",
      "| Illegal Parking|\n",
      "|Blocked Driveway|\n",
      "|           Noise|\n",
      "+----------------+"
     ]
    }
   ],
   "source": [
    "## Checking complaint type column contents post filtering\n",
    "\n",
    "dataFrame.select('Complaint_Type').distinct().show()"
   ]
  },
  {
   "cell_type": "code",
   "execution_count": 36,
   "metadata": {},
   "outputs": [
    {
     "data": {
      "application/vnd.jupyter.widget-view+json": {
       "model_id": "82f8efff516d4f7b90f568ea1d43b855",
       "version_major": 2,
       "version_minor": 0
      },
      "text/plain": [
       "VBox()"
      ]
     },
     "metadata": {},
     "output_type": "display_data"
    },
    {
     "data": {
      "application/vnd.jupyter.widget-view+json": {
       "model_id": "",
       "version_major": 2,
       "version_minor": 0
      },
      "text/plain": [
       "FloatProgress(value=0.0, bar_style='info', description='Progress:', layout=Layout(height='25px', width='50%'),…"
      ]
     },
     "metadata": {},
     "output_type": "display_data"
    },
    {
     "name": "stdout",
     "output_type": "stream",
     "text": [
      "+-------------+\n",
      "|      Borough|\n",
      "+-------------+\n",
      "|    01 QUEENS|\n",
      "|  Unspecified|\n",
      "|       QUEENS|\n",
      "|     BROOKLYN|\n",
      "|        BRONX|\n",
      "|    13 QUEENS|\n",
      "|    MANHATTAN|\n",
      "|STATEN ISLAND|\n",
      "+-------------+"
     ]
    }
   ],
   "source": [
    "## Checking contents of column Borough\n",
    "\n",
    "dataFrame.select('Borough').distinct().show()"
   ]
  },
  {
   "cell_type": "code",
   "execution_count": 37,
   "metadata": {},
   "outputs": [
    {
     "data": {
      "application/vnd.jupyter.widget-view+json": {
       "model_id": "db5dbfbf9d69461a8d74fa0f87e4eb01",
       "version_major": 2,
       "version_minor": 0
      },
      "text/plain": [
       "VBox()"
      ]
     },
     "metadata": {},
     "output_type": "display_data"
    },
    {
     "data": {
      "application/vnd.jupyter.widget-view+json": {
       "model_id": "",
       "version_major": 2,
       "version_minor": 0
      },
      "text/plain": [
       "FloatProgress(value=0.0, bar_style='info', description='Progress:', layout=Layout(height='25px', width='50%'),…"
      ]
     },
     "metadata": {},
     "output_type": "display_data"
    }
   ],
   "source": [
    "## Grouping boroughs together\n",
    "\n",
    "dataFrame = dataFrame.withColumn('Borough', when(\n",
    "    (col(\"Borough\") == \"01 QUEENS\") \n",
    "    | (col(\"Borough\") == \"QUEENS\") \n",
    "    | (col(\"Borough\") == \"13 QUEENS\"), \"QUEENS\"\n",
    ").otherwise(col('Borough')))"
   ]
  },
  {
   "cell_type": "code",
   "execution_count": 38,
   "metadata": {},
   "outputs": [
    {
     "data": {
      "application/vnd.jupyter.widget-view+json": {
       "model_id": "a3e22b65c46245438753755c610bc458",
       "version_major": 2,
       "version_minor": 0
      },
      "text/plain": [
       "VBox()"
      ]
     },
     "metadata": {},
     "output_type": "display_data"
    },
    {
     "data": {
      "application/vnd.jupyter.widget-view+json": {
       "model_id": "",
       "version_major": 2,
       "version_minor": 0
      },
      "text/plain": [
       "FloatProgress(value=0.0, bar_style='info', description='Progress:', layout=Layout(height='25px', width='50%'),…"
      ]
     },
     "metadata": {},
     "output_type": "display_data"
    }
   ],
   "source": [
    "## Filtering out 'Unspecified' borough type from the dataframe\n",
    "\n",
    "dataFrame = dataFrame.filter(dataFrame.Borough != 'Unspecified')"
   ]
  },
  {
   "cell_type": "code",
   "execution_count": 39,
   "metadata": {},
   "outputs": [
    {
     "data": {
      "application/vnd.jupyter.widget-view+json": {
       "model_id": "70e4aec784544f0e89c312dd7c0173ce",
       "version_major": 2,
       "version_minor": 0
      },
      "text/plain": [
       "VBox()"
      ]
     },
     "metadata": {},
     "output_type": "display_data"
    },
    {
     "data": {
      "application/vnd.jupyter.widget-view+json": {
       "model_id": "",
       "version_major": 2,
       "version_minor": 0
      },
      "text/plain": [
       "FloatProgress(value=0.0, bar_style='info', description='Progress:', layout=Layout(height='25px', width='50%'),…"
      ]
     },
     "metadata": {},
     "output_type": "display_data"
    },
    {
     "name": "stdout",
     "output_type": "stream",
     "text": [
      "+-------------+\n",
      "|      Borough|\n",
      "+-------------+\n",
      "|       QUEENS|\n",
      "|     BROOKLYN|\n",
      "|        BRONX|\n",
      "|    MANHATTAN|\n",
      "|STATEN ISLAND|\n",
      "+-------------+"
     ]
    }
   ],
   "source": [
    "## Checking contents of column Borough\n",
    "\n",
    "dataFrame.select('Borough').distinct().show()"
   ]
  },
  {
   "cell_type": "code",
   "execution_count": 40,
   "metadata": {},
   "outputs": [
    {
     "data": {
      "application/vnd.jupyter.widget-view+json": {
       "model_id": "7176a7d56fcb429cb76e5e2e4add9094",
       "version_major": 2,
       "version_minor": 0
      },
      "text/plain": [
       "VBox()"
      ]
     },
     "metadata": {},
     "output_type": "display_data"
    },
    {
     "data": {
      "application/vnd.jupyter.widget-view+json": {
       "model_id": "",
       "version_major": 2,
       "version_minor": 0
      },
      "text/plain": [
       "FloatProgress(value=0.0, bar_style='info', description='Progress:', layout=Layout(height='25px', width='50%'),…"
      ]
     },
     "metadata": {},
     "output_type": "display_data"
    },
    {
     "name": "stdout",
     "output_type": "stream",
     "text": [
      "+----------------------+\n",
      "|Open Data Channel Type|\n",
      "+----------------------+\n",
      "|                MOBILE|\n",
      "|               1055343|\n",
      "|               1005837|\n",
      "|               UNKNOWN|\n",
      "|                 PHONE|\n",
      "|                ONLINE|\n",
      "+----------------------+"
     ]
    }
   ],
   "source": [
    "## Checking contents of column Open Data Channel Type\n",
    "\n",
    "dataFrame.select('Open Data Channel Type').distinct().show()"
   ]
  },
  {
   "cell_type": "code",
   "execution_count": 41,
   "metadata": {},
   "outputs": [
    {
     "data": {
      "application/vnd.jupyter.widget-view+json": {
       "model_id": "aa8e53475721479492bef97e9ab969d9",
       "version_major": 2,
       "version_minor": 0
      },
      "text/plain": [
       "VBox()"
      ]
     },
     "metadata": {},
     "output_type": "display_data"
    },
    {
     "data": {
      "application/vnd.jupyter.widget-view+json": {
       "model_id": "",
       "version_major": 2,
       "version_minor": 0
      },
      "text/plain": [
       "FloatProgress(value=0.0, bar_style='info', description='Progress:', layout=Layout(height='25px', width='50%'),…"
      ]
     },
     "metadata": {},
     "output_type": "display_data"
    }
   ],
   "source": [
    "## Renaming the column header \n",
    "\n",
    "dataFrame = dataFrame.withColumnRenamed(\"Open Data Channel Type\", \"Open_Data_Channel_Type\")"
   ]
  },
  {
   "cell_type": "code",
   "execution_count": 42,
   "metadata": {},
   "outputs": [
    {
     "data": {
      "application/vnd.jupyter.widget-view+json": {
       "model_id": "034406627edc4e8f94afd19a42aa134d",
       "version_major": 2,
       "version_minor": 0
      },
      "text/plain": [
       "VBox()"
      ]
     },
     "metadata": {},
     "output_type": "display_data"
    },
    {
     "data": {
      "application/vnd.jupyter.widget-view+json": {
       "model_id": "",
       "version_major": 2,
       "version_minor": 0
      },
      "text/plain": [
       "FloatProgress(value=0.0, bar_style='info', description='Progress:', layout=Layout(height='25px', width='50%'),…"
      ]
     },
     "metadata": {},
     "output_type": "display_data"
    }
   ],
   "source": [
    "## Refining the dataframe\n",
    "\n",
    "dataFrame = dataFrame.filter((dataFrame.Open_Data_Channel_Type == 'MOBILE') | (dataFrame.Open_Data_Channel_Type == 'PHONE') | (dataFrame.Open_Data_Channel_Type == 'ONLINE'))"
   ]
  },
  {
   "cell_type": "code",
   "execution_count": 43,
   "metadata": {},
   "outputs": [
    {
     "data": {
      "application/vnd.jupyter.widget-view+json": {
       "model_id": "1aa494b8a936473fb5a512701d508bf2",
       "version_major": 2,
       "version_minor": 0
      },
      "text/plain": [
       "VBox()"
      ]
     },
     "metadata": {},
     "output_type": "display_data"
    },
    {
     "data": {
      "application/vnd.jupyter.widget-view+json": {
       "model_id": "",
       "version_major": 2,
       "version_minor": 0
      },
      "text/plain": [
       "FloatProgress(value=0.0, bar_style='info', description='Progress:', layout=Layout(height='25px', width='50%'),…"
      ]
     },
     "metadata": {},
     "output_type": "display_data"
    },
    {
     "name": "stdout",
     "output_type": "stream",
     "text": [
      "+----------------------+\n",
      "|Open_Data_Channel_Type|\n",
      "+----------------------+\n",
      "|                MOBILE|\n",
      "|                 PHONE|\n",
      "|                ONLINE|\n",
      "+----------------------+"
     ]
    }
   ],
   "source": [
    "dataFrame.select('Open_Data_Channel_Type').distinct().show()"
   ]
  },
  {
   "cell_type": "code",
   "execution_count": 44,
   "metadata": {},
   "outputs": [
    {
     "data": {
      "application/vnd.jupyter.widget-view+json": {
       "model_id": "305751346d394daa85c89bcfae2ff7fa",
       "version_major": 2,
       "version_minor": 0
      },
      "text/plain": [
       "VBox()"
      ]
     },
     "metadata": {},
     "output_type": "display_data"
    },
    {
     "data": {
      "application/vnd.jupyter.widget-view+json": {
       "model_id": "",
       "version_major": 2,
       "version_minor": 0
      },
      "text/plain": [
       "FloatProgress(value=0.0, bar_style='info', description='Progress:', layout=Layout(height='25px', width='50%'),…"
      ]
     },
     "metadata": {},
     "output_type": "display_data"
    },
    {
     "name": "stdout",
     "output_type": "stream",
     "text": [
      "1896599"
     ]
    }
   ],
   "source": [
    "## Checking final count of records in the dataFrame \n",
    "\n",
    "dataFrame.count()"
   ]
  },
  {
   "cell_type": "markdown",
   "metadata": {},
   "source": [
    "### The code below indexes each categorical column using the StringIndexer, and then converts the indexed categories into one-hot encoded variables. The resulting output has the binary vectors appended to the end of each row. StringIndexer is used again to encode labels to label indices."
   ]
  },
  {
   "cell_type": "code",
   "execution_count": 45,
   "metadata": {},
   "outputs": [
    {
     "data": {
      "application/vnd.jupyter.widget-view+json": {
       "model_id": "74aa7d0ee512455fbe17db2925508278",
       "version_major": 2,
       "version_minor": 0
      },
      "text/plain": [
       "VBox()"
      ]
     },
     "metadata": {},
     "output_type": "display_data"
    },
    {
     "data": {
      "application/vnd.jupyter.widget-view+json": {
       "model_id": "",
       "version_major": 2,
       "version_minor": 0
      },
      "text/plain": [
       "FloatProgress(value=0.0, bar_style='info', description='Progress:', layout=Layout(height='25px', width='50%'),…"
      ]
     },
     "metadata": {},
     "output_type": "display_data"
    }
   ],
   "source": [
    "from pyspark.ml import Pipeline\n",
    "from pyspark.ml.feature import OneHotEncoderEstimator, StringIndexer, VectorAssembler\n",
    "\n",
    "#categoricalColumns = [\"Agency Name\", \"Complaint Type\", \"Incident Zip\", \"Address Type\", \"Borough\", \"Open Data Channel Type\"]\n",
    "\n",
    "categoricalColumns = [\"Complaint_Type\", \"Borough\", \"Open_Data_Channel_Type\"]\n",
    "\n",
    "\n",
    "stages = [] # stages in our Pipeline\n",
    "\n",
    "for categoricalCol in categoricalColumns:\n",
    "    # Category Indexing with StringIndexer\n",
    "    stringIndexer = StringIndexer(inputCol=categoricalCol, outputCol=categoricalCol + \"Index\")\n",
    "    # Use OneHotEncoder to convert categorical variables into binary SparseVectors\n",
    "    # encoder = OneHotEncoderEstimator(inputCol=categoricalCol + \"Index\", outputCol=categoricalCol + \"classVec\")\n",
    "    encoder = OneHotEncoderEstimator(inputCols=[stringIndexer.getOutputCol()], outputCols=[categoricalCol + \"classVec\"])\n",
    "    # Add stages.  These are not run here, but will run all at once later on.\n",
    "    stages += [stringIndexer, encoder]\n",
    "\n"
   ]
  },
  {
   "cell_type": "code",
   "execution_count": 46,
   "metadata": {},
   "outputs": [
    {
     "data": {
      "application/vnd.jupyter.widget-view+json": {
       "model_id": "0b279ec0d57f4a06bb91de54de27cef2",
       "version_major": 2,
       "version_minor": 0
      },
      "text/plain": [
       "VBox()"
      ]
     },
     "metadata": {},
     "output_type": "display_data"
    },
    {
     "data": {
      "application/vnd.jupyter.widget-view+json": {
       "model_id": "",
       "version_major": 2,
       "version_minor": 0
      },
      "text/plain": [
       "FloatProgress(value=0.0, bar_style='info', description='Progress:', layout=Layout(height='25px', width='50%'),…"
      ]
     },
     "metadata": {},
     "output_type": "display_data"
    }
   ],
   "source": [
    "# Converting label into label indices using the StringIndexer\n",
    "\n",
    "label_stringIdx = StringIndexer(inputCol=\"Resolution_Time_Hours\", outputCol=\"label\")\n",
    "stages += [label_stringIdx]"
   ]
  },
  {
   "cell_type": "markdown",
   "metadata": {},
   "source": [
    "### Use a VectorAssembler to combine all the feature columns into a single vector column. This includes both the numeric columns and the one-hot encoded binary vector columns in our dataset."
   ]
  },
  {
   "cell_type": "code",
   "execution_count": 47,
   "metadata": {},
   "outputs": [
    {
     "data": {
      "application/vnd.jupyter.widget-view+json": {
       "model_id": "54666a82960c40c2b0f24b0510174e8c",
       "version_major": 2,
       "version_minor": 0
      },
      "text/plain": [
       "VBox()"
      ]
     },
     "metadata": {},
     "output_type": "display_data"
    },
    {
     "data": {
      "application/vnd.jupyter.widget-view+json": {
       "model_id": "",
       "version_major": 2,
       "version_minor": 0
      },
      "text/plain": [
       "FloatProgress(value=0.0, bar_style='info', description='Progress:', layout=Layout(height='25px', width='50%'),…"
      ]
     },
     "metadata": {},
     "output_type": "display_data"
    }
   ],
   "source": [
    "# Transform all features into a vector using VectorAssembler\n",
    "\n",
    "#numericCols = [\"Complaint_Created_Day\", \"Complaint_Created_Month\", \"Complaint_Created_DayOfWeek\", \"Complaint_Created_Hour\"]\n",
    "\n",
    "numericCols = [\"Complaint_Created_Day\"]\n",
    "\n",
    "\n",
    "\n",
    "assemblerInputs = [c + \"classVec\" for c in categoricalColumns] + numericCols\n",
    "assembler = VectorAssembler(inputCols=assemblerInputs, outputCol=\"features\")\n",
    "stages += [assembler]"
   ]
  },
  {
   "cell_type": "markdown",
   "metadata": {},
   "source": [
    "### Run the stages as a Pipeline. This puts the data through all of the feature transformations we described in a single call."
   ]
  },
  {
   "cell_type": "code",
   "execution_count": 48,
   "metadata": {},
   "outputs": [
    {
     "data": {
      "application/vnd.jupyter.widget-view+json": {
       "model_id": "16d67015a2774291b815be994bbd12f4",
       "version_major": 2,
       "version_minor": 0
      },
      "text/plain": [
       "VBox()"
      ]
     },
     "metadata": {},
     "output_type": "display_data"
    },
    {
     "data": {
      "application/vnd.jupyter.widget-view+json": {
       "model_id": "",
       "version_major": 2,
       "version_minor": 0
      },
      "text/plain": [
       "FloatProgress(value=0.0, bar_style='info', description='Progress:', layout=Layout(height='25px', width='50%'),…"
      ]
     },
     "metadata": {},
     "output_type": "display_data"
    }
   ],
   "source": [
    "partialPipeline = Pipeline().setStages(stages)\n",
    "pipelineModel = partialPipeline.fit(dataFrame)\n",
    "preppedDataDF = pipelineModel.transform(dataFrame)"
   ]
  },
  {
   "cell_type": "code",
   "execution_count": 49,
   "metadata": {},
   "outputs": [
    {
     "data": {
      "application/vnd.jupyter.widget-view+json": {
       "model_id": "19c1e580c7ec4b51b037146a7e7029cd",
       "version_major": 2,
       "version_minor": 0
      },
      "text/plain": [
       "VBox()"
      ]
     },
     "metadata": {},
     "output_type": "display_data"
    },
    {
     "data": {
      "application/vnd.jupyter.widget-view+json": {
       "model_id": "",
       "version_major": 2,
       "version_minor": 0
      },
      "text/plain": [
       "FloatProgress(value=0.0, bar_style='info', description='Progress:', layout=Layout(height='25px', width='50%'),…"
      ]
     },
     "metadata": {},
     "output_type": "display_data"
    }
   ],
   "source": [
    "# Keeping relevant columns\n",
    "\n",
    "selectedcols = [\"label\", \"features\"]\n",
    "dataFrame = preppedDataDF.select(selectedcols)\n",
    "#dataFrame.limit(5).toPandas()"
   ]
  },
  {
   "cell_type": "code",
   "execution_count": 50,
   "metadata": {},
   "outputs": [
    {
     "data": {
      "application/vnd.jupyter.widget-view+json": {
       "model_id": "b79012fd26ee40a1a270420088c0e737",
       "version_major": 2,
       "version_minor": 0
      },
      "text/plain": [
       "VBox()"
      ]
     },
     "metadata": {},
     "output_type": "display_data"
    },
    {
     "data": {
      "application/vnd.jupyter.widget-view+json": {
       "model_id": "",
       "version_major": 2,
       "version_minor": 0
      },
      "text/plain": [
       "FloatProgress(value=0.0, bar_style='info', description='Progress:', layout=Layout(height='25px', width='50%'),…"
      ]
     },
     "metadata": {},
     "output_type": "display_data"
    }
   ],
   "source": [
    "### Randomly split data into training and test sets. set seed for reproducibility\n",
    "\n",
    "(trainingData, testData) = dataFrame.randomSplit([0.7, 0.3], seed=100)\n",
    "#print(trainingData.count())\n",
    "#print(testData.count())"
   ]
  },
  {
   "cell_type": "markdown",
   "metadata": {},
   "source": [
    "## RandomForest Regressor"
   ]
  },
  {
   "cell_type": "code",
   "execution_count": 51,
   "metadata": {},
   "outputs": [
    {
     "data": {
      "application/vnd.jupyter.widget-view+json": {
       "model_id": "8b46534d79ef45a48f34b4743e676442",
       "version_major": 2,
       "version_minor": 0
      },
      "text/plain": [
       "VBox()"
      ]
     },
     "metadata": {},
     "output_type": "display_data"
    },
    {
     "data": {
      "application/vnd.jupyter.widget-view+json": {
       "model_id": "",
       "version_major": 2,
       "version_minor": 0
      },
      "text/plain": [
       "FloatProgress(value=0.0, bar_style='info', description='Progress:', layout=Layout(height='25px', width='50%'),…"
      ]
     },
     "metadata": {},
     "output_type": "display_data"
    }
   ],
   "source": [
    "from pyspark.ml.regression import RandomForestRegressor\n",
    "\n",
    "# Create an initial RandomForest model.\n",
    "rf = RandomForestRegressor(labelCol=\"label\", featuresCol=\"features\")\n",
    "\n",
    "# Train model with Training Data\n",
    "rfModel = rf.fit(trainingData)"
   ]
  },
  {
   "cell_type": "code",
   "execution_count": 52,
   "metadata": {},
   "outputs": [
    {
     "data": {
      "application/vnd.jupyter.widget-view+json": {
       "model_id": "8ad8d7d33093485c90dd7b56821636d0",
       "version_major": 2,
       "version_minor": 0
      },
      "text/plain": [
       "VBox()"
      ]
     },
     "metadata": {},
     "output_type": "display_data"
    },
    {
     "data": {
      "application/vnd.jupyter.widget-view+json": {
       "model_id": "",
       "version_major": 2,
       "version_minor": 0
      },
      "text/plain": [
       "FloatProgress(value=0.0, bar_style='info', description='Progress:', layout=Layout(height='25px', width='50%'),…"
      ]
     },
     "metadata": {},
     "output_type": "display_data"
    }
   ],
   "source": [
    "#rfModel.featureImportances"
   ]
  },
  {
   "cell_type": "code",
   "execution_count": 53,
   "metadata": {},
   "outputs": [
    {
     "data": {
      "application/vnd.jupyter.widget-view+json": {
       "model_id": "5d24733f7e3647198c169cb8e6b71e59",
       "version_major": 2,
       "version_minor": 0
      },
      "text/plain": [
       "VBox()"
      ]
     },
     "metadata": {},
     "output_type": "display_data"
    },
    {
     "data": {
      "application/vnd.jupyter.widget-view+json": {
       "model_id": "",
       "version_major": 2,
       "version_minor": 0
      },
      "text/plain": [
       "FloatProgress(value=0.0, bar_style='info', description='Progress:', layout=Layout(height='25px', width='50%'),…"
      ]
     },
     "metadata": {},
     "output_type": "display_data"
    }
   ],
   "source": [
    "def ExtractFeatureImp(featureImp, dataset, featuresCol):\n",
    "    list_extract = []\n",
    "    for i in dataset.schema[featuresCol].metadata[\"ml_attr\"][\"attrs\"]:\n",
    "        list_extract = list_extract + dataset.schema[featuresCol].metadata[\"ml_attr\"][\"attrs\"][i]\n",
    "    varlist = pd.DataFrame(list_extract)\n",
    "    varlist['score'] = varlist['idx'].apply(lambda x: featureImp[x])\n",
    "    return(varlist.sort_values('score', ascending = False))"
   ]
  },
  {
   "cell_type": "code",
   "execution_count": 54,
   "metadata": {},
   "outputs": [
    {
     "data": {
      "application/vnd.jupyter.widget-view+json": {
       "model_id": "02105f9469ca4ae693b88ddb6e69bfb5",
       "version_major": 2,
       "version_minor": 0
      },
      "text/plain": [
       "VBox()"
      ]
     },
     "metadata": {},
     "output_type": "display_data"
    },
    {
     "data": {
      "application/vnd.jupyter.widget-view+json": {
       "model_id": "",
       "version_major": 2,
       "version_minor": 0
      },
      "text/plain": [
       "FloatProgress(value=0.0, bar_style='info', description='Progress:', layout=Layout(height='25px', width='50%'),…"
      ]
     },
     "metadata": {},
     "output_type": "display_data"
    },
    {
     "name": "stdout",
     "output_type": "stream",
     "text": [
      "   idx                                    name     score\n",
      "5    4               BoroughclassVec_MANHATTAN  0.376852\n",
      "6    5                   BoroughclassVec_BRONX  0.264449\n",
      "1    0            Complaint_TypeclassVec_Noise  0.199831\n",
      "3    2                BoroughclassVec_BROOKLYN  0.049985\n",
      "7    6    Open_Data_Channel_TypeclassVec_PHONE  0.037339\n",
      "4    3                  BoroughclassVec_QUEENS  0.035270\n",
      "2    1  Complaint_TypeclassVec_Illegal Parking  0.025610\n",
      "8    7   Open_Data_Channel_TypeclassVec_ONLINE  0.007465\n",
      "0    8                   Complaint_Created_Day  0.003199"
     ]
    }
   ],
   "source": [
    "ExtractFeatureImp(rfModel.featureImportances, preppedDataDF, \"features\").head(15)"
   ]
  },
  {
   "cell_type": "code",
   "execution_count": 55,
   "metadata": {},
   "outputs": [
    {
     "data": {
      "application/vnd.jupyter.widget-view+json": {
       "model_id": "2cf48adef1354c4eaee41909b752b757",
       "version_major": 2,
       "version_minor": 0
      },
      "text/plain": [
       "VBox()"
      ]
     },
     "metadata": {},
     "output_type": "display_data"
    },
    {
     "data": {
      "application/vnd.jupyter.widget-view+json": {
       "model_id": "",
       "version_major": 2,
       "version_minor": 0
      },
      "text/plain": [
       "FloatProgress(value=0.0, bar_style='info', description='Progress:', layout=Layout(height='25px', width='50%'),…"
      ]
     },
     "metadata": {},
     "output_type": "display_data"
    }
   ],
   "source": [
    "# Make predictions on test data using the transform() method.\n",
    "\n",
    "predictions = rfModel.transform(testData)"
   ]
  },
  {
   "cell_type": "code",
   "execution_count": 56,
   "metadata": {},
   "outputs": [
    {
     "data": {
      "application/vnd.jupyter.widget-view+json": {
       "model_id": "43ff6a76d14c43ef8452a6cf1e15ec52",
       "version_major": 2,
       "version_minor": 0
      },
      "text/plain": [
       "VBox()"
      ]
     },
     "metadata": {},
     "output_type": "display_data"
    },
    {
     "data": {
      "application/vnd.jupyter.widget-view+json": {
       "model_id": "",
       "version_major": 2,
       "version_minor": 0
      },
      "text/plain": [
       "FloatProgress(value=0.0, bar_style='info', description='Progress:', layout=Layout(height='25px', width='50%'),…"
      ]
     },
     "metadata": {},
     "output_type": "display_data"
    },
    {
     "name": "stdout",
     "output_type": "stream",
     "text": [
      "+------------------+-----+--------------------+\n",
      "|        prediction|label|            features|\n",
      "+------------------+-----+--------------------+\n",
      "| 192.4606066101204|  0.0|(9,[0,2,6,8],[1.0...|\n",
      "|192.33652446118847|  0.0|(9,[0,2,6,8],[1.0...|\n",
      "|187.64689838083058|  0.0|(9,[0,2,7,8],[1.0...|\n",
      "|187.81114287180682|  0.0|(9,[0,2,7,8],[1.0...|\n",
      "|187.21141688461086|  0.0|(9,[0,2,8],[1.0,1...|\n",
      "| 187.8628917797629|  0.0|(9,[0,2,8],[1.0,1...|\n",
      "| 187.8628917797629|  0.0|(9,[0,2,8],[1.0,1...|\n",
      "| 197.9197281340874|  0.0|(9,[0,3,6,8],[1.0...|\n",
      "| 190.6034838844941|  0.0|(9,[0,3,7,8],[1.0...|\n",
      "| 190.6034838844941|  0.0|(9,[0,3,7,8],[1.0...|\n",
      "+------------------+-----+--------------------+\n",
      "only showing top 10 rows"
     ]
    }
   ],
   "source": [
    "# Select example rows to display.\n",
    "\n",
    "#predictions.select(\"prediction\", \"label\", \"features\").limit(5).toPandas()\n",
    "\n",
    "predictions.select(\"prediction\", \"label\", \"features\").show(10)"
   ]
  },
  {
   "cell_type": "code",
   "execution_count": 57,
   "metadata": {},
   "outputs": [
    {
     "data": {
      "application/vnd.jupyter.widget-view+json": {
       "model_id": "c62e7ca6b15843f78419fb44083af2d1",
       "version_major": 2,
       "version_minor": 0
      },
      "text/plain": [
       "VBox()"
      ]
     },
     "metadata": {},
     "output_type": "display_data"
    },
    {
     "data": {
      "application/vnd.jupyter.widget-view+json": {
       "model_id": "",
       "version_major": 2,
       "version_minor": 0
      },
      "text/plain": [
       "FloatProgress(value=0.0, bar_style='info', description='Progress:', layout=Layout(height='25px', width='50%'),…"
      ]
     },
     "metadata": {},
     "output_type": "display_data"
    }
   ],
   "source": [
    "# Select (prediction, true label) and compute test error\n",
    "\n",
    "from pyspark.ml.evaluation import RegressionEvaluator\n",
    "\n",
    "evaluator = RegressionEvaluator(\n",
    "    labelCol=\"label\", predictionCol=\"prediction\", metricName=\"rmse\")\n",
    "\n",
    "rmse = evaluator.evaluate(predictions)\n",
    "\n",
    "#print(\"Root Mean Squared Error (RMSE) on test data = %g\" % rmse)"
   ]
  },
  {
   "cell_type": "code",
   "execution_count": 58,
   "metadata": {},
   "outputs": [
    {
     "data": {
      "application/vnd.jupyter.widget-view+json": {
       "model_id": "d74c3eabd62b47b7b173263a4fa4c5ef",
       "version_major": 2,
       "version_minor": 0
      },
      "text/plain": [
       "VBox()"
      ]
     },
     "metadata": {},
     "output_type": "display_data"
    },
    {
     "data": {
      "application/vnd.jupyter.widget-view+json": {
       "model_id": "",
       "version_major": 2,
       "version_minor": 0
      },
      "text/plain": [
       "FloatProgress(value=0.0, bar_style='info', description='Progress:', layout=Layout(height='25px', width='50%'),…"
      ]
     },
     "metadata": {},
     "output_type": "display_data"
    },
    {
     "name": "stdout",
     "output_type": "stream",
     "text": [
      "Root Mean Squared Error (RMSE) on test data = 133.712"
     ]
    }
   ],
   "source": [
    "print(\"Root Mean Squared Error (RMSE) on test data = %g\" % rmse)"
   ]
  },
  {
   "cell_type": "markdown",
   "metadata": {},
   "source": [
    "# GBT Regressor"
   ]
  },
  {
   "cell_type": "code",
   "execution_count": 59,
   "metadata": {},
   "outputs": [
    {
     "data": {
      "application/vnd.jupyter.widget-view+json": {
       "model_id": "54705bee40314e0b84428940c3888746",
       "version_major": 2,
       "version_minor": 0
      },
      "text/plain": [
       "VBox()"
      ]
     },
     "metadata": {},
     "output_type": "display_data"
    },
    {
     "data": {
      "application/vnd.jupyter.widget-view+json": {
       "model_id": "",
       "version_major": 2,
       "version_minor": 0
      },
      "text/plain": [
       "FloatProgress(value=0.0, bar_style='info', description='Progress:', layout=Layout(height='25px', width='50%'),…"
      ]
     },
     "metadata": {},
     "output_type": "display_data"
    }
   ],
   "source": [
    "from pyspark.ml.regression import GBTRegressor\n",
    "\n",
    "gbt = GBTRegressor(featuresCol = 'features', labelCol = 'label', maxIter=10)\n",
    "gbt_model = gbt.fit(trainingData)\n",
    "gbt_predictions = gbt_model.transform(testData)\n",
    "\n",
    "#gbt_predictions.select('prediction', 'label', 'features').show(5)"
   ]
  },
  {
   "cell_type": "code",
   "execution_count": 60,
   "metadata": {},
   "outputs": [
    {
     "data": {
      "application/vnd.jupyter.widget-view+json": {
       "model_id": "225e75d0ad8541069434f06700d0c7c9",
       "version_major": 2,
       "version_minor": 0
      },
      "text/plain": [
       "VBox()"
      ]
     },
     "metadata": {},
     "output_type": "display_data"
    },
    {
     "data": {
      "application/vnd.jupyter.widget-view+json": {
       "model_id": "",
       "version_major": 2,
       "version_minor": 0
      },
      "text/plain": [
       "FloatProgress(value=0.0, bar_style='info', description='Progress:', layout=Layout(height='25px', width='50%'),…"
      ]
     },
     "metadata": {},
     "output_type": "display_data"
    },
    {
     "name": "stdout",
     "output_type": "stream",
     "text": [
      "Root Mean Squared Error (RMSE) on test data = 133.697"
     ]
    }
   ],
   "source": [
    "gbt_evaluator = RegressionEvaluator(\n",
    "    labelCol=\"label\", predictionCol=\"prediction\", metricName=\"rmse\")\n",
    "rmse = gbt_evaluator.evaluate(gbt_predictions)\n",
    "print(\"Root Mean Squared Error (RMSE) on test data = %g\" % rmse)"
   ]
  },
  {
   "cell_type": "markdown",
   "metadata": {},
   "source": [
    "## From the above analysis, it can be seen that the derived metrics are significantly off the actual labels. Hence the results for modelling are inconclusive in this study."
   ]
  },
  {
   "cell_type": "code",
   "execution_count": null,
   "metadata": {},
   "outputs": [],
   "source": []
  }
 ],
 "metadata": {
  "kernelspec": {
   "display_name": "PySpark",
   "language": "",
   "name": "pysparkkernel"
  },
  "language_info": {
   "codemirror_mode": {
    "name": "python",
    "version": 2
   },
   "mimetype": "text/x-python",
   "name": "pyspark",
   "pygments_lexer": "python2"
  }
 },
 "nbformat": 4,
 "nbformat_minor": 4
}
